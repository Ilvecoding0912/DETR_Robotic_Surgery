{
  "nbformat": 4,
  "nbformat_minor": 0,
  "metadata": {
    "colab": {
      "provenance": [],
      "gpuType": "T4",
      "include_colab_link": true
    },
    "kernelspec": {
      "name": "python3",
      "display_name": "Python 3"
    },
    "language_info": {
      "name": "python"
    },
    "accelerator": "GPU",
    "widgets": {
      "application/vnd.jupyter.widget-state+json": {
        "ad90b4d7c4804dc48b850be961f2b963": {
          "model_module": "@jupyter-widgets/controls",
          "model_name": "HBoxModel",
          "model_module_version": "1.5.0",
          "state": {
            "_dom_classes": [],
            "_model_module": "@jupyter-widgets/controls",
            "_model_module_version": "1.5.0",
            "_model_name": "HBoxModel",
            "_view_count": null,
            "_view_module": "@jupyter-widgets/controls",
            "_view_module_version": "1.5.0",
            "_view_name": "HBoxView",
            "box_style": "",
            "children": [
              "IPY_MODEL_91da8ee679ab4ab29521a1ecf37ad767",
              "IPY_MODEL_dc29e1b4a4c94ee98948b204b990eb7d",
              "IPY_MODEL_438ba30171ab4743b9c6231c07d15524"
            ],
            "layout": "IPY_MODEL_01744af7e8a44465af59f5207c732150"
          }
        },
        "91da8ee679ab4ab29521a1ecf37ad767": {
          "model_module": "@jupyter-widgets/controls",
          "model_name": "HTMLModel",
          "model_module_version": "1.5.0",
          "state": {
            "_dom_classes": [],
            "_model_module": "@jupyter-widgets/controls",
            "_model_module_version": "1.5.0",
            "_model_name": "HTMLModel",
            "_view_count": null,
            "_view_module": "@jupyter-widgets/controls",
            "_view_module_version": "1.5.0",
            "_view_name": "HTMLView",
            "description": "",
            "description_tooltip": null,
            "layout": "IPY_MODEL_102765e2bdea42f883bfd579f98bd235",
            "placeholder": "​",
            "style": "IPY_MODEL_f4e17cfb8d4c4c858141eed2d9fb9a97",
            "value": "Downloading model.safetensors: 100%"
          }
        },
        "dc29e1b4a4c94ee98948b204b990eb7d": {
          "model_module": "@jupyter-widgets/controls",
          "model_name": "FloatProgressModel",
          "model_module_version": "1.5.0",
          "state": {
            "_dom_classes": [],
            "_model_module": "@jupyter-widgets/controls",
            "_model_module_version": "1.5.0",
            "_model_name": "FloatProgressModel",
            "_view_count": null,
            "_view_module": "@jupyter-widgets/controls",
            "_view_module_version": "1.5.0",
            "_view_name": "ProgressView",
            "bar_style": "success",
            "description": "",
            "description_tooltip": null,
            "layout": "IPY_MODEL_b5acffcb56bb40eba4d4fd480965533f",
            "max": 352685652,
            "min": 0,
            "orientation": "horizontal",
            "style": "IPY_MODEL_84011e89b329442e9f36bb92102d4d81",
            "value": 352685652
          }
        },
        "438ba30171ab4743b9c6231c07d15524": {
          "model_module": "@jupyter-widgets/controls",
          "model_name": "HTMLModel",
          "model_module_version": "1.5.0",
          "state": {
            "_dom_classes": [],
            "_model_module": "@jupyter-widgets/controls",
            "_model_module_version": "1.5.0",
            "_model_name": "HTMLModel",
            "_view_count": null,
            "_view_module": "@jupyter-widgets/controls",
            "_view_module_version": "1.5.0",
            "_view_name": "HTMLView",
            "description": "",
            "description_tooltip": null,
            "layout": "IPY_MODEL_10c52f49c6d74e6197748543d967b7c7",
            "placeholder": "​",
            "style": "IPY_MODEL_aa89cd0020b94bc8b0dea1a6efc82ffa",
            "value": " 353M/353M [00:01&lt;00:00, 251MB/s]"
          }
        },
        "01744af7e8a44465af59f5207c732150": {
          "model_module": "@jupyter-widgets/base",
          "model_name": "LayoutModel",
          "model_module_version": "1.2.0",
          "state": {
            "_model_module": "@jupyter-widgets/base",
            "_model_module_version": "1.2.0",
            "_model_name": "LayoutModel",
            "_view_count": null,
            "_view_module": "@jupyter-widgets/base",
            "_view_module_version": "1.2.0",
            "_view_name": "LayoutView",
            "align_content": null,
            "align_items": null,
            "align_self": null,
            "border": null,
            "bottom": null,
            "display": null,
            "flex": null,
            "flex_flow": null,
            "grid_area": null,
            "grid_auto_columns": null,
            "grid_auto_flow": null,
            "grid_auto_rows": null,
            "grid_column": null,
            "grid_gap": null,
            "grid_row": null,
            "grid_template_areas": null,
            "grid_template_columns": null,
            "grid_template_rows": null,
            "height": null,
            "justify_content": null,
            "justify_items": null,
            "left": null,
            "margin": null,
            "max_height": null,
            "max_width": null,
            "min_height": null,
            "min_width": null,
            "object_fit": null,
            "object_position": null,
            "order": null,
            "overflow": null,
            "overflow_x": null,
            "overflow_y": null,
            "padding": null,
            "right": null,
            "top": null,
            "visibility": null,
            "width": null
          }
        },
        "102765e2bdea42f883bfd579f98bd235": {
          "model_module": "@jupyter-widgets/base",
          "model_name": "LayoutModel",
          "model_module_version": "1.2.0",
          "state": {
            "_model_module": "@jupyter-widgets/base",
            "_model_module_version": "1.2.0",
            "_model_name": "LayoutModel",
            "_view_count": null,
            "_view_module": "@jupyter-widgets/base",
            "_view_module_version": "1.2.0",
            "_view_name": "LayoutView",
            "align_content": null,
            "align_items": null,
            "align_self": null,
            "border": null,
            "bottom": null,
            "display": null,
            "flex": null,
            "flex_flow": null,
            "grid_area": null,
            "grid_auto_columns": null,
            "grid_auto_flow": null,
            "grid_auto_rows": null,
            "grid_column": null,
            "grid_gap": null,
            "grid_row": null,
            "grid_template_areas": null,
            "grid_template_columns": null,
            "grid_template_rows": null,
            "height": null,
            "justify_content": null,
            "justify_items": null,
            "left": null,
            "margin": null,
            "max_height": null,
            "max_width": null,
            "min_height": null,
            "min_width": null,
            "object_fit": null,
            "object_position": null,
            "order": null,
            "overflow": null,
            "overflow_x": null,
            "overflow_y": null,
            "padding": null,
            "right": null,
            "top": null,
            "visibility": null,
            "width": null
          }
        },
        "f4e17cfb8d4c4c858141eed2d9fb9a97": {
          "model_module": "@jupyter-widgets/controls",
          "model_name": "DescriptionStyleModel",
          "model_module_version": "1.5.0",
          "state": {
            "_model_module": "@jupyter-widgets/controls",
            "_model_module_version": "1.5.0",
            "_model_name": "DescriptionStyleModel",
            "_view_count": null,
            "_view_module": "@jupyter-widgets/base",
            "_view_module_version": "1.2.0",
            "_view_name": "StyleView",
            "description_width": ""
          }
        },
        "b5acffcb56bb40eba4d4fd480965533f": {
          "model_module": "@jupyter-widgets/base",
          "model_name": "LayoutModel",
          "model_module_version": "1.2.0",
          "state": {
            "_model_module": "@jupyter-widgets/base",
            "_model_module_version": "1.2.0",
            "_model_name": "LayoutModel",
            "_view_count": null,
            "_view_module": "@jupyter-widgets/base",
            "_view_module_version": "1.2.0",
            "_view_name": "LayoutView",
            "align_content": null,
            "align_items": null,
            "align_self": null,
            "border": null,
            "bottom": null,
            "display": null,
            "flex": null,
            "flex_flow": null,
            "grid_area": null,
            "grid_auto_columns": null,
            "grid_auto_flow": null,
            "grid_auto_rows": null,
            "grid_column": null,
            "grid_gap": null,
            "grid_row": null,
            "grid_template_areas": null,
            "grid_template_columns": null,
            "grid_template_rows": null,
            "height": null,
            "justify_content": null,
            "justify_items": null,
            "left": null,
            "margin": null,
            "max_height": null,
            "max_width": null,
            "min_height": null,
            "min_width": null,
            "object_fit": null,
            "object_position": null,
            "order": null,
            "overflow": null,
            "overflow_x": null,
            "overflow_y": null,
            "padding": null,
            "right": null,
            "top": null,
            "visibility": null,
            "width": null
          }
        },
        "84011e89b329442e9f36bb92102d4d81": {
          "model_module": "@jupyter-widgets/controls",
          "model_name": "ProgressStyleModel",
          "model_module_version": "1.5.0",
          "state": {
            "_model_module": "@jupyter-widgets/controls",
            "_model_module_version": "1.5.0",
            "_model_name": "ProgressStyleModel",
            "_view_count": null,
            "_view_module": "@jupyter-widgets/base",
            "_view_module_version": "1.2.0",
            "_view_name": "StyleView",
            "bar_color": null,
            "description_width": ""
          }
        },
        "10c52f49c6d74e6197748543d967b7c7": {
          "model_module": "@jupyter-widgets/base",
          "model_name": "LayoutModel",
          "model_module_version": "1.2.0",
          "state": {
            "_model_module": "@jupyter-widgets/base",
            "_model_module_version": "1.2.0",
            "_model_name": "LayoutModel",
            "_view_count": null,
            "_view_module": "@jupyter-widgets/base",
            "_view_module_version": "1.2.0",
            "_view_name": "LayoutView",
            "align_content": null,
            "align_items": null,
            "align_self": null,
            "border": null,
            "bottom": null,
            "display": null,
            "flex": null,
            "flex_flow": null,
            "grid_area": null,
            "grid_auto_columns": null,
            "grid_auto_flow": null,
            "grid_auto_rows": null,
            "grid_column": null,
            "grid_gap": null,
            "grid_row": null,
            "grid_template_areas": null,
            "grid_template_columns": null,
            "grid_template_rows": null,
            "height": null,
            "justify_content": null,
            "justify_items": null,
            "left": null,
            "margin": null,
            "max_height": null,
            "max_width": null,
            "min_height": null,
            "min_width": null,
            "object_fit": null,
            "object_position": null,
            "order": null,
            "overflow": null,
            "overflow_x": null,
            "overflow_y": null,
            "padding": null,
            "right": null,
            "top": null,
            "visibility": null,
            "width": null
          }
        },
        "aa89cd0020b94bc8b0dea1a6efc82ffa": {
          "model_module": "@jupyter-widgets/controls",
          "model_name": "DescriptionStyleModel",
          "model_module_version": "1.5.0",
          "state": {
            "_model_module": "@jupyter-widgets/controls",
            "_model_module_version": "1.5.0",
            "_model_name": "DescriptionStyleModel",
            "_view_count": null,
            "_view_module": "@jupyter-widgets/base",
            "_view_module_version": "1.2.0",
            "_view_name": "StyleView",
            "description_width": ""
          }
        }
      }
    }
  },
  "cells": [
    {
      "cell_type": "markdown",
      "metadata": {
        "id": "view-in-github",
        "colab_type": "text"
      },
      "source": [
        "<a href=\"https://colab.research.google.com/github/Ilvecoding0912/DETR_Robotic_Surgery/blob/main/SWIN_DETR_training.ipynb\" target=\"_parent\"><img src=\"https://colab.research.google.com/assets/colab-badge.svg\" alt=\"Open In Colab\"/></a>"
      ]
    },
    {
      "cell_type": "markdown",
      "source": [
        "# DETR training process\n"
      ],
      "metadata": {
        "id": "udwFrw6ZiYP6"
      }
    },
    {
      "cell_type": "markdown",
      "source": [
        "Clone DETR Repo after changing to our dataset"
      ],
      "metadata": {
        "id": "d9AQWNd9gKQa"
      }
    },
    {
      "cell_type": "code",
      "execution_count": 1,
      "metadata": {
        "colab": {
          "base_uri": "https://localhost:8080/"
        },
        "id": "Pax7w1zmgEJ0",
        "outputId": "b745a6b9-a960-4c0b-c8c2-c5d4daa01366"
      },
      "outputs": [
        {
          "output_type": "stream",
          "name": "stdout",
          "text": [
            "Cloning into 'DETR_Robotic_Surgery'...\n",
            "remote: Enumerating objects: 130, done.\u001b[K\n",
            "remote: Counting objects: 100% (50/50), done.\u001b[K\n",
            "remote: Compressing objects: 100% (49/49), done.\u001b[K\n",
            "remote: Total 130 (delta 15), reused 0 (delta 0), pack-reused 80\u001b[K\n",
            "Receiving objects: 100% (130/130), 2.52 MiB | 2.20 MiB/s, done.\n",
            "Resolving deltas: 100% (33/33), done.\n",
            "/content/DETR_Robotic_Surgery\n"
          ]
        }
      ],
      "source": [
        "!git clone https://github.com/Ilvecoding0912/DETR_Robotic_Surgery.git\n",
        "%cd DETR_Robotic_Surgery"
      ]
    },
    {
      "cell_type": "markdown",
      "source": [
        "Download DETR weights"
      ],
      "metadata": {
        "id": "npD6VBwsxc3m"
      }
    },
    {
      "cell_type": "code",
      "source": [
        "import gdown\n",
        "\n",
        "url = 'https://drive.google.com/uc?id=1HV2Tit0CsVeYKHugjx8QxROPegQa3AV-'\n",
        "gdown.download(url,'detr_weights.pth',quiet=True)"
      ],
      "metadata": {
        "colab": {
          "base_uri": "https://localhost:8080/",
          "height": 35
        },
        "id": "zD1ubNUGtKKi",
        "outputId": "9a40d544-972b-4264-cfbc-c45193b5e9b6"
      },
      "execution_count": 2,
      "outputs": [
        {
          "output_type": "execute_result",
          "data": {
            "text/plain": [
              "'detr_weights.pth'"
            ],
            "application/vnd.google.colaboratory.intrinsic+json": {
              "type": "string"
            }
          },
          "metadata": {},
          "execution_count": 2
        }
      ]
    },
    {
      "cell_type": "code",
      "source": [
        "!pip -q install timm"
      ],
      "metadata": {
        "colab": {
          "base_uri": "https://localhost:8080/"
        },
        "id": "GoglqRuWeh1v",
        "outputId": "f1838e87-97fd-4ce2-c46e-471012ccea57"
      },
      "execution_count": 3,
      "outputs": [
        {
          "output_type": "stream",
          "name": "stdout",
          "text": [
            "\u001b[2K     \u001b[90m━━━━━━━━━━━━━━━━━━━━━━━━━━━━━━━━━━━━━━━━\u001b[0m \u001b[32m2.2/2.2 MB\u001b[0m \u001b[31m15.2 MB/s\u001b[0m eta \u001b[36m0:00:00\u001b[0m\n",
            "\u001b[2K     \u001b[90m━━━━━━━━━━━━━━━━━━━━━━━━━━━━━━━━━━━━━━\u001b[0m \u001b[32m268.8/268.8 kB\u001b[0m \u001b[31m17.8 MB/s\u001b[0m eta \u001b[36m0:00:00\u001b[0m\n",
            "\u001b[2K     \u001b[90m━━━━━━━━━━━━━━━━━━━━━━━━━━━━━━━━━━━━━━━━\u001b[0m \u001b[32m1.3/1.3 MB\u001b[0m \u001b[31m24.8 MB/s\u001b[0m eta \u001b[36m0:00:00\u001b[0m\n",
            "\u001b[?25h"
          ]
        }
      ]
    },
    {
      "cell_type": "code",
      "source": [
        "from timm import create_model\n",
        "swintran = create_model(\"swin_base_patch4_window7_224\", pretrained=True)\n",
        "for param in swintran.parameters():\n",
        "    param.requires_grad = False"
      ],
      "metadata": {
        "colab": {
          "base_uri": "https://localhost:8080/",
          "height": 105,
          "referenced_widgets": [
            "ad90b4d7c4804dc48b850be961f2b963",
            "91da8ee679ab4ab29521a1ecf37ad767",
            "dc29e1b4a4c94ee98948b204b990eb7d",
            "438ba30171ab4743b9c6231c07d15524",
            "01744af7e8a44465af59f5207c732150",
            "102765e2bdea42f883bfd579f98bd235",
            "f4e17cfb8d4c4c858141eed2d9fb9a97",
            "b5acffcb56bb40eba4d4fd480965533f",
            "84011e89b329442e9f36bb92102d4d81",
            "10c52f49c6d74e6197748543d967b7c7",
            "aa89cd0020b94bc8b0dea1a6efc82ffa"
          ]
        },
        "id": "KeS62v3zAX43",
        "outputId": "58cc897c-8cf0-42db-ca08-b7134f203274"
      },
      "execution_count": 4,
      "outputs": [
        {
          "output_type": "stream",
          "name": "stderr",
          "text": [
            "/usr/local/lib/python3.10/dist-packages/torch/functional.py:504: UserWarning: torch.meshgrid: in an upcoming release, it will be required to pass the indexing argument. (Triggered internally at ../aten/src/ATen/native/TensorShape.cpp:3483.)\n",
            "  return _VF.meshgrid(tensors, **kwargs)  # type: ignore[attr-defined]\n"
          ]
        },
        {
          "output_type": "display_data",
          "data": {
            "text/plain": [
              "Downloading model.safetensors:   0%|          | 0.00/353M [00:00<?, ?B/s]"
            ],
            "application/vnd.jupyter.widget-view+json": {
              "version_major": 2,
              "version_minor": 0,
              "model_id": "ad90b4d7c4804dc48b850be961f2b963"
            }
          },
          "metadata": {}
        }
      ]
    },
    {
      "cell_type": "code",
      "source": [
        "def replace_text_in_file(search_path, replace_path, search_text=None, replace_text=None):\n",
        "    with open(search_path, 'r') as file: content = file.read()\n",
        "    modified_content = content.replace(search_text, replace_text)\n",
        "    with open(replace_path, 'w') as file: file.write(modified_content)\n",
        "\n",
        "file_path = '/content/DETR_Robotic_Surgery/datasets/coco.py'\n",
        "replace_text_in_file(file_path, file_path, search_text='1024', replace_text='224')"
      ],
      "metadata": {
        "id": "t_V6ITX6bsz1"
      },
      "execution_count": 5,
      "outputs": []
    },
    {
      "cell_type": "code",
      "source": [
        "%cd /content/DETR_Robotic_Surgery\n",
        "from collections import OrderedDict\n",
        "import torch\n",
        "from torch import nn\n",
        "from typing import Dict, List\n",
        "from util.misc import NestedTensor\n",
        "import torch.nn.functional as F\n",
        "from models.position_encoding import build_position_encoding\n",
        "from timm import create_model\n",
        "\n",
        "\n",
        "class backboneSWIN(nn.Module):\n",
        "\n",
        "    def __init__(self, ):\n",
        "        super().__init__()\n",
        "        self.swintran = create_model(\"swin_base_patch4_window7_224\", pretrained=True)\n",
        "        self.swintran.eval()\n",
        "        for param in self.swintran.parameters():\n",
        "            param.requires_grad = False\n",
        "\n",
        "\n",
        "\n",
        "    def forward(self, tensor_list: NestedTensor):\n",
        "        xs = OrderedDict()\n",
        "        with torch.no_grad():\n",
        "            x = self.swintran.patch_embed(tensor_list.tensors)\n",
        "            x = self.swintran.layers(x)\n",
        "            xs['0'] = self.swintran.norm(x).permute(0,3,1,2)\n",
        "\n",
        "        # print('out swin features', xs['0'].shape)\n",
        "        out: Dict[str, NestedTensor] = {}\n",
        "        for name, x in xs.items():\n",
        "            m = tensor_list.mask\n",
        "            # print('m', m.shape)\n",
        "            assert m is not None\n",
        "            import torch.nn.functional as F\n",
        "            mask = F.interpolate(m[None].float(), size=x.shape[-2:]).to(torch.bool)[0]\n",
        "            # mask = F.upsample_nearest(m[None].float(),size=x.shape[-2:]).to(torch.bool)[0]\n",
        "            # print('mobarak',name, x.shape, mask.shape)\n",
        "            out[name] = NestedTensor(x, mask)\n",
        "        return out\n",
        "\n",
        "class Joiner(nn.Sequential):\n",
        "    def __init__(self, backbone, position_embedding):\n",
        "        super().__init__(backbone, position_embedding)\n",
        "\n",
        "    def forward(self, tensor_list: NestedTensor):\n",
        "        xs = self[0](tensor_list)\n",
        "        out: List[NestedTensor] = []\n",
        "        pos = []\n",
        "        for name, x in xs.items():\n",
        "            out.append(x)\n",
        "            # position encoding\n",
        "            pos.append(self[1](x).to(x.tensors.dtype))\n",
        "\n",
        "        return out, pos\n",
        "\n",
        "def build_backbone(args):\n",
        "    position_embedding = build_position_encoding(args)\n",
        "    train_backbone = args.lr_backbone > 0\n",
        "    return_interm_layers = args.masks\n",
        "    backbone = backboneSWIN()#Backbone(args.backbone, train_backbone, return_interm_layers, args.dilation)\n",
        "    model = Joiner(backbone, position_embedding)\n",
        "    # model.num_channels = backbone.num_channels\n",
        "    return model"
      ],
      "metadata": {
        "colab": {
          "base_uri": "https://localhost:8080/"
        },
        "id": "aSwpRYFPe6uB",
        "outputId": "fb29eb7d-44bd-4fdc-c6ac-a97c838d537e"
      },
      "execution_count": 8,
      "outputs": [
        {
          "output_type": "stream",
          "name": "stdout",
          "text": [
            "/content/DETR_Robotic_Surgery\n"
          ]
        }
      ]
    },
    {
      "cell_type": "markdown",
      "source": [
        "Part of content related to training in 'main.py'.\n",
        "(We ignore the evaluation part.)"
      ],
      "metadata": {
        "id": "35SBHOQ4lXOi"
      }
    },
    {
      "cell_type": "code",
      "source": [
        "%cd /content/DETR_Robotic_Surgery\n",
        "from main import get_args_parser\n",
        "import argparse\n",
        "import torch\n",
        "import time\n",
        "import random\n",
        "import datetime\n",
        "import json\n",
        "from torch.utils.data import DataLoader, DistributedSampler\n",
        "import util.misc as utils\n",
        "from datasets import build_dataset, get_coco_api_from_dataset\n",
        "from pathlib import Path\n",
        "import numpy as np\n",
        "from engine import evaluate, train_one_epoch\n",
        "from models import build_model\n",
        "from datasets.coco import *\n",
        "import os\n",
        "\n",
        "def main():\n",
        "\n",
        "    parser = argparse.ArgumentParser('DETR training and evaluation script', parents=[get_args_parser()])\n",
        "    args = parser.parse_args([])\n",
        "    args.output_dir = './outputs' # Results dir\n",
        "    args.endovis_path = 'endovis17' # Path to our dataset\n",
        "    args.device = 'cuda' if torch.cuda.is_available() else 'cpu'\n",
        "    # training parameters\n",
        "    args.start_epoch = 0\n",
        "    args.epochs = 1 # total number of epoch\n",
        "    args.batch_size = 1\n",
        "\n",
        "    # create output directoty if not exist\n",
        "    if os.path.exists(args.output_dir) is False:\n",
        "        os.mkdir(args.output_dir)\n",
        "\n",
        "    utils.init_distributed_mode(args)\n",
        "    print(\"git:\\n  {}\\n\".format(utils.get_sha()))\n",
        "    print(args)\n",
        "\n",
        "    device = torch.device(args.device)\n",
        "\n",
        "    # fix the seed for reproducibility\n",
        "    seed = args.seed + utils.get_rank()\n",
        "    torch.manual_seed(seed)\n",
        "    np.random.seed(seed)\n",
        "    random.seed(seed)\n",
        "\n",
        "    # create model\n",
        "    model, criterion, postprocessors = build_model(args)\n",
        "    model.to(device)\n",
        "    # print(model)\n",
        "    model_without_ddp = model\n",
        "    n_parameters = sum(p.numel() for p in model.parameters() if p.requires_grad)\n",
        "    print('number of params:', n_parameters)\n",
        "\n",
        "    param_dicts = [\n",
        "        {\"params\": [p for n, p in model_without_ddp.named_parameters() if \"backbone\" not in n and p.requires_grad]},\n",
        "        {\n",
        "            \"params\": [p for n, p in model_without_ddp.named_parameters() if \"backbone\" in n and p.requires_grad],\n",
        "            \"lr\": args.lr_backbone,\n",
        "        },\n",
        "    ]\n",
        "    optimizer = torch.optim.AdamW(param_dicts, lr=args.lr,\n",
        "                                    weight_decay=args.weight_decay)\n",
        "    lr_scheduler = torch.optim.lr_scheduler.StepLR(optimizer, args.lr_drop)\n",
        "\n",
        "    # Our dataset class (initialize in datasets->coco.py)\n",
        "    dataset_train = EnvidosDataset(args.endovis_path, transforms=make_coco_transforms('train'), mode='train', length=4)\n",
        "\n",
        "    if args.distributed:\n",
        "        sampler_train = DistributedSampler(dataset_train)\n",
        "    else:\n",
        "        sampler_train = torch.utils.data.RandomSampler(dataset_train)\n",
        "\n",
        "    batch_sampler_train = torch.utils.data.BatchSampler(\n",
        "        sampler_train, args.batch_size, drop_last=True)\n",
        "\n",
        "    data_loader_train = DataLoader(dataset_train, batch_sampler=batch_sampler_train,\n",
        "                                    collate_fn=utils.collate_fn, num_workers=args.num_workers)\n",
        "\n",
        "    #---------------------- Training Process ----------------------\n",
        "    print(\"Start training\")\n",
        "    start_time = time.time()\n",
        "\n",
        "    sam_backbone = build_backbone(args)#BackboneBase()\n",
        "    sam_backbone.to(device)\n",
        "    sam_backbone.eval()\n",
        "    model_without_ddp.backbone = sam_backbone\n",
        "    model_without_ddp.input_proj = nn.Conv2d(1024, model_without_ddp.transformer.d_model, kernel_size=1)\n",
        "    model_without_ddp.to(device)\n",
        "\n",
        "    for epoch in range(args.start_epoch, args.epochs):\n",
        "        if args.distributed:\n",
        "            sampler_train.set_epoch(epoch)\n",
        "\n",
        "        #----------------- main training function (can be seen in 'engine.py') -----------------\n",
        "        train_stats = train_one_epoch(\n",
        "            model_without_ddp, criterion, data_loader_train, optimizer, device, epoch,\n",
        "            args.clip_max_norm)\n",
        "\n",
        "        lr_scheduler.step()\n",
        "\n",
        "        # Save trained models\n",
        "        output_dir = Path(args.output_dir)\n",
        "        if args.output_dir:\n",
        "            checkpoint_paths = [output_dir / f'checkpoint{epoch:04}.pth']\n",
        "            if (epoch + 1) % args.lr_drop == 0 or (epoch + 1) % 5 == 0:\n",
        "                checkpoint_paths.append(output_dir / f'checkpoint{epoch:04}_lr{args.lr}.pth')\n",
        "            for checkpoint_path in checkpoint_paths:\n",
        "                utils.save_on_master({\n",
        "                    'model': model_without_ddp.state_dict(),\n",
        "                    'optimizer': optimizer.state_dict(),\n",
        "                    'lr_scheduler': lr_scheduler.state_dict(),\n",
        "                    'epoch': epoch,\n",
        "                    'args': args,\n",
        "                }, checkpoint_path)\n",
        "\n",
        "        log_stats = {**{f'train_{k}': v for k, v in train_stats.items()},\n",
        "                        'epoch': epoch,\n",
        "                        'n_parameters': n_parameters}\n",
        "\n",
        "        if args.output_dir and utils.is_main_process():\n",
        "            with (output_dir / \"log.txt\").open(\"a\") as f:\n",
        "                f.write(json.dumps(log_stats) + \"\\n\")\n",
        "\n",
        "\n",
        "    total_time = time.time() - start_time\n",
        "    total_time_str = str(datetime.timedelta(seconds=int(total_time)))\n",
        "    print('Training time {}'.format(total_time_str))\n",
        "\n",
        "\n",
        "main()"
      ],
      "metadata": {
        "colab": {
          "base_uri": "https://localhost:8080/"
        },
        "id": "UkQzsVvBgdHt",
        "outputId": "4762ac81-4c9c-4aa6-d79b-ae1b720301be"
      },
      "execution_count": 11,
      "outputs": [
        {
          "output_type": "stream",
          "name": "stdout",
          "text": [
            "/content/DETR_Robotic_Surgery\n",
            "Not using distributed mode\n",
            "git:\n",
            "  sha: 51daa00dc19ce10ff76760f95f88499fa80b48c3, status: has uncommited changes, branch: main\n",
            "\n",
            "Namespace(lr=0.0001, lr_backbone=1e-05, batch_size=1, weight_decay=0.0001, epochs=1, lr_drop=200, clip_max_norm=0.1, frozen_weights=None, model=True, backbone='resnet50', dilation=False, position_embedding='sine', enc_layers=6, dec_layers=6, dim_feedforward=2048, hidden_dim=256, dropout=0.1, nheads=8, num_queries=100, pre_norm=False, masks=False, aux_loss=True, set_cost_class=1, set_cost_bbox=5, set_cost_giou=2, mask_loss_coef=1, dice_loss_coef=1, bbox_loss_coef=5, giou_loss_coef=2, eos_coef=0.01, dataset_file='endovis17', coco_path=None, endovis_path='endovis17', coco_panoptic_path=None, remove_difficult=False, output_dir='./outputs', device='cuda', seed=42, resume='', start_epoch=0, eval=False, num_workers=2, world_size=1, dist_url='env://', distributed=False)\n"
          ]
        },
        {
          "output_type": "stream",
          "name": "stderr",
          "text": [
            "/usr/local/lib/python3.10/dist-packages/torchvision/models/_utils.py:208: UserWarning: The parameter 'pretrained' is deprecated since 0.13 and may be removed in the future, please use 'weights' instead.\n",
            "  warnings.warn(\n",
            "/usr/local/lib/python3.10/dist-packages/torchvision/models/_utils.py:223: UserWarning: Arguments other than a weight enum or `None` for 'weights' are deprecated since 0.13 and may be removed in the future. The current behavior is equivalent to passing `weights=ResNet50_Weights.IMAGENET1K_V1`. You can also use `weights=ResNet50_Weights.DEFAULT` to get the most up-to-date weights.\n",
            "  warnings.warn(msg)\n"
          ]
        },
        {
          "output_type": "stream",
          "name": "stdout",
          "text": [
            "number of params: 41281037\n",
            "Start training\n",
            "out swin features torch.Size([1, 1024, 7, 7])\n",
            "Epoch: [0]  [0/4]  eta: 0:00:01  lr: 0.000100  class_error: 33.33  loss: 40.7313 (40.7313)  loss_ce: 2.2733 (2.2733)  loss_bbox: 2.9468 (2.9468)  loss_giou: 1.7204 (1.7204)  loss_ce_0: 2.5862 (2.5862)  loss_bbox_0: 2.7820 (2.7820)  loss_giou_0: 1.3801 (1.3801)  loss_ce_1: 2.4352 (2.4352)  loss_bbox_1: 2.4938 (2.4938)  loss_giou_1: 1.2280 (1.2280)  loss_ce_2: 2.4121 (2.4121)  loss_bbox_2: 3.0030 (3.0030)  loss_giou_2: 1.4809 (1.4809)  loss_ce_3: 2.3199 (2.3199)  loss_bbox_3: 3.1853 (3.1853)  loss_giou_3: 1.4462 (1.4462)  loss_ce_4: 2.2419 (2.2419)  loss_bbox_4: 3.0485 (3.0485)  loss_giou_4: 1.7476 (1.7476)  loss_ce_unscaled: 2.2733 (2.2733)  class_error_unscaled: 33.3333 (33.3333)  loss_bbox_unscaled: 0.5894 (0.5894)  loss_giou_unscaled: 0.8602 (0.8602)  cardinality_error_unscaled: 97.0000 (97.0000)  loss_ce_0_unscaled: 2.5862 (2.5862)  loss_bbox_0_unscaled: 0.5564 (0.5564)  loss_giou_0_unscaled: 0.6900 (0.6900)  cardinality_error_0_unscaled: 97.0000 (97.0000)  loss_ce_1_unscaled: 2.4352 (2.4352)  loss_bbox_1_unscaled: 0.4988 (0.4988)  loss_giou_1_unscaled: 0.6140 (0.6140)  cardinality_error_1_unscaled: 97.0000 (97.0000)  loss_ce_2_unscaled: 2.4121 (2.4121)  loss_bbox_2_unscaled: 0.6006 (0.6006)  loss_giou_2_unscaled: 0.7405 (0.7405)  cardinality_error_2_unscaled: 97.0000 (97.0000)  loss_ce_3_unscaled: 2.3199 (2.3199)  loss_bbox_3_unscaled: 0.6371 (0.6371)  loss_giou_3_unscaled: 0.7231 (0.7231)  cardinality_error_3_unscaled: 97.0000 (97.0000)  loss_ce_4_unscaled: 2.2419 (2.2419)  loss_bbox_4_unscaled: 0.6097 (0.6097)  loss_giou_4_unscaled: 0.8738 (0.8738)  cardinality_error_4_unscaled: 97.0000 (97.0000)  time: 0.3609  data: 0.1779  max mem: 1859\n",
            "out swin features torch.Size([1, 1024, 7, 7])\n",
            "out swin features torch.Size([1, 1024, 7, 7])\n",
            "out swin features torch.Size([1, 1024, 7, 7])\n",
            "Epoch: [0]  [3/4]  eta: 0:00:00  lr: 0.000100  class_error: 33.33  loss: 37.4899 (39.0382)  loss_ce: 2.1929 (2.2655)  loss_bbox: 2.4576 (2.5831)  loss_giou: 1.4638 (1.5160)  loss_ce_0: 2.5105 (2.5353)  loss_bbox_0: 2.7820 (2.7835)  loss_giou_0: 1.3801 (1.4834)  loss_ce_1: 2.4299 (2.4457)  loss_bbox_1: 2.7819 (2.7438)  loss_giou_1: 1.4335 (1.4468)  loss_ce_2: 2.4202 (2.4519)  loss_bbox_2: 2.5148 (2.5172)  loss_giou_2: 1.4025 (1.4085)  loss_ce_3: 2.3199 (2.3319)  loss_bbox_3: 2.3675 (2.6089)  loss_giou_3: 1.2452 (1.3769)  loss_ce_4: 2.1921 (2.2172)  loss_bbox_4: 2.4571 (2.7181)  loss_giou_4: 1.4837 (1.6045)  loss_ce_unscaled: 2.1929 (2.2655)  class_error_unscaled: 33.3333 (58.3333)  loss_bbox_unscaled: 0.4915 (0.5166)  loss_giou_unscaled: 0.7319 (0.7580)  cardinality_error_unscaled: 97.0000 (97.0000)  loss_ce_0_unscaled: 2.5105 (2.5353)  loss_bbox_0_unscaled: 0.5564 (0.5567)  loss_giou_0_unscaled: 0.6900 (0.7417)  cardinality_error_0_unscaled: 97.0000 (97.0000)  loss_ce_1_unscaled: 2.4299 (2.4457)  loss_bbox_1_unscaled: 0.5564 (0.5488)  loss_giou_1_unscaled: 0.7167 (0.7234)  cardinality_error_1_unscaled: 97.0000 (97.0000)  loss_ce_2_unscaled: 2.4202 (2.4519)  loss_bbox_2_unscaled: 0.5030 (0.5034)  loss_giou_2_unscaled: 0.7013 (0.7042)  cardinality_error_2_unscaled: 97.0000 (97.0000)  loss_ce_3_unscaled: 2.3199 (2.3319)  loss_bbox_3_unscaled: 0.4735 (0.5218)  loss_giou_3_unscaled: 0.6226 (0.6885)  cardinality_error_3_unscaled: 97.0000 (97.0000)  loss_ce_4_unscaled: 2.1921 (2.2172)  loss_bbox_4_unscaled: 0.4914 (0.5436)  loss_giou_4_unscaled: 0.7418 (0.8023)  cardinality_error_4_unscaled: 97.0000 (97.0000)  time: 0.1842  data: 0.0485  max mem: 1859\n",
            "Epoch: [0] Total time: 0:00:00 (0.2026 s / it)\n",
            "Averaged stats: lr: 0.000100  class_error: 33.33  loss: 37.4899 (39.0382)  loss_ce: 2.1929 (2.2655)  loss_bbox: 2.4576 (2.5831)  loss_giou: 1.4638 (1.5160)  loss_ce_0: 2.5105 (2.5353)  loss_bbox_0: 2.7820 (2.7835)  loss_giou_0: 1.3801 (1.4834)  loss_ce_1: 2.4299 (2.4457)  loss_bbox_1: 2.7819 (2.7438)  loss_giou_1: 1.4335 (1.4468)  loss_ce_2: 2.4202 (2.4519)  loss_bbox_2: 2.5148 (2.5172)  loss_giou_2: 1.4025 (1.4085)  loss_ce_3: 2.3199 (2.3319)  loss_bbox_3: 2.3675 (2.6089)  loss_giou_3: 1.2452 (1.3769)  loss_ce_4: 2.1921 (2.2172)  loss_bbox_4: 2.4571 (2.7181)  loss_giou_4: 1.4837 (1.6045)  loss_ce_unscaled: 2.1929 (2.2655)  class_error_unscaled: 33.3333 (58.3333)  loss_bbox_unscaled: 0.4915 (0.5166)  loss_giou_unscaled: 0.7319 (0.7580)  cardinality_error_unscaled: 97.0000 (97.0000)  loss_ce_0_unscaled: 2.5105 (2.5353)  loss_bbox_0_unscaled: 0.5564 (0.5567)  loss_giou_0_unscaled: 0.6900 (0.7417)  cardinality_error_0_unscaled: 97.0000 (97.0000)  loss_ce_1_unscaled: 2.4299 (2.4457)  loss_bbox_1_unscaled: 0.5564 (0.5488)  loss_giou_1_unscaled: 0.7167 (0.7234)  cardinality_error_1_unscaled: 97.0000 (97.0000)  loss_ce_2_unscaled: 2.4202 (2.4519)  loss_bbox_2_unscaled: 0.5030 (0.5034)  loss_giou_2_unscaled: 0.7013 (0.7042)  cardinality_error_2_unscaled: 97.0000 (97.0000)  loss_ce_3_unscaled: 2.3199 (2.3319)  loss_bbox_3_unscaled: 0.4735 (0.5218)  loss_giou_3_unscaled: 0.6226 (0.6885)  cardinality_error_3_unscaled: 97.0000 (97.0000)  loss_ce_4_unscaled: 2.1921 (2.2172)  loss_bbox_4_unscaled: 0.4914 (0.5436)  loss_giou_4_unscaled: 0.7418 (0.8023)  cardinality_error_4_unscaled: 97.0000 (97.0000)\n",
            "Training time 0:00:05\n"
          ]
        }
      ]
    },
    {
      "cell_type": "code",
      "source": [
        "import torchvision.transforms as T\n",
        "import numpy as np\n",
        "\n",
        "invTrans = T.Compose([ T.Normalize(mean = [ 0., 0., 0. ],\n",
        "                                                     std = [ 1/0.229, 1/0.224, 1/0.225 ]),\n",
        "                                T.Normalize(mean = [ -0.485, -0.456, -0.406 ],\n",
        "                                                     std = [ 1., 1., 1. ]),\n",
        "                               ])\n",
        "\n",
        "img1 = invTrans(samples.tensors)\n",
        "print(img1.shape)\n",
        "print(img1[0].permute(1,2,0).shape)\n",
        "img = img1[0].permute(1,2,0).cpu()\n",
        "# ([0.485, 0.456, 0.406], [0.229, 0.224, 0.225])\n",
        "\n",
        "print(img.max(), img.min())\n",
        "img_cv = np.array(img*255).astype(np.uint8)\n",
        "im_rgb = cv2.cvtColor(img_cv, cv2.COLOR_BGR2RGB)\n",
        "cv2.imwrite('sample.png', im_rgb)"
      ],
      "metadata": {
        "id": "H_h_FXaZ5KNC"
      },
      "execution_count": null,
      "outputs": []
    }
  ]
}